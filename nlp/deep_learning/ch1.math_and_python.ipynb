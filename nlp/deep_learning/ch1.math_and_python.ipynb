{
 "cells": [
  {
   "cell_type": "code",
   "execution_count": null,
   "metadata": {},
   "outputs": [],
   "source": []
  },
  {
   "cell_type": "markdown",
   "metadata": {},
   "source": [
    "#　用語集\n",
    "\n",
    "**Softmax** : Softmax function takes an un-normalized vector, and normalizes it into a probability distribution.\n",
    "\n",
    "\n",
    "\n",
    "[Softmax Wikipedia](https://en.wikipedia.org/wiki/Softmax_function)\n",
    "\n",
    "\n",
    "**Sigmoid**:"
   ]
  },
  {
   "cell_type": "code",
   "execution_count": null,
   "metadata": {},
   "outputs": [],
   "source": []
  },
  {
   "cell_type": "code",
   "execution_count": 18,
   "metadata": {},
   "outputs": [
    {
     "name": "stdout",
     "output_type": "stream",
     "text": [
      "[[19 22]\n",
      " [43 50]]\n"
     ]
    }
   ],
   "source": [
    "import numpy as np\n",
    "\n",
    "\n",
    "x = np.array([1,2,3])\n",
    "print(f\"Dimension {x.ndim}\")\n",
    "print(x)\n",
    "print(x.shape)\n",
    "\n",
    "y = np.array([[1,2,3], [4,5,6]])\n",
    "print(f\"Dimension {y.ndim}\")\n",
    "print(y)\n",
    "print(y.shape)\n",
    "\n",
    "list_z = [[[0] * 3] * 3] * 3\n",
    "\n",
    "\n",
    "z = np.array(list_z)\n",
    "print(f\"Dimension {z.ndim}\")\n",
    "print(z)\n",
    "print(z.shape)\n",
    "A = np.array([[1,2,3], [4,5,6]])\n",
    "b = np.array([10, 20, 30])\n",
    "\n",
    "A*b\n",
    "a = np.array([1,2,3])\n",
    "b = np.array([4,5,6])\n",
    "np.dot(a, b)\n",
    "A = np.array([[1,2], [3,4]])\n",
    "B = np.array([[5,6], [7,8]])\n",
    "print(np.dot(A, B))"
   ]
  },
  {
   "cell_type": "code",
   "execution_count": null,
   "metadata": {},
   "outputs": [],
   "source": []
  },
  {
   "cell_type": "code",
   "execution_count": null,
   "metadata": {},
   "outputs": [],
   "source": []
  },
  {
   "cell_type": "markdown",
   "metadata": {},
   "source": [
    "ニューラネットワーク二つのフェース：\n",
    "\n",
    "学習\n",
    "推論\n",
    "\n",
    "\n",
    "\n",
    "ニューロン　→\n",
    "\n",
    "隣接するニューロン間の全てに　結びつきがあるため、全結合層と呼ばれます。\n",
    "\n",
    "\n",
    "\n",
    "ニューラネットワークの推論\n",
    "\n",
    "\n",
    "推論：\n",
    "\n",
    "順伝播\n",
    "\n",
    "入力層\n",
    "\n",
    "隠れ層（中間層）\n",
    "\n",
    "出力層\n",
    "\n",
    "学習\n",
    "\n",
    "最適なパラメータを見つける作業になります。\n",
    "\n",
    "損失関数\n",
    "\n",
    "Affineレイア\n",
    "\n",
    "Sigmoidレイア\n",
    "\n",
    "Softmaxレイア　→　出力は確率です\n",
    "\n",
    "交差エントロピー誤差（CrossEntropyError）を用いる場合が多くあります。\n",
    "\n",
    "$$\n",
    "L=-\\sum_k t_k log y_k\n",
    "$$\n",
    "\n",
    "$t_k$ k番目のクラスに対応する教師ラベルです。OneHotベクトル。\n",
    "\n",
    "実質的に正解ラベルが１の要素に対応する出力の自然対数を計算するだけになります。\n",
    "\n",
    "\n",
    "ミニバッチ処理：\n",
    "\n",
    "\n",
    "$$\n",
    "L=-\\frac{1}{N}\\sum_n\\sum_k t_{nk} log y_{nk}\n",
    "$$\n",
    "\n",
    "\n",
    "学習目標：損失をできるだけ小さくするパラメータを見つけることです。\n",
    "\n",
    "微分、\n",
    "\n",
    "チェインルール\n",
    "\n"
   ]
  },
  {
   "cell_type": "code",
   "execution_count": 19,
   "metadata": {},
   "outputs": [],
   "source": [
    "class Sigmoid:\n",
    "    def __init__(self):\n",
    "        self.params = []\n",
    "    def forward(self, x):\n",
    "        return 1/ (1+np.exp(-x))\n",
    "    \n",
    "class Affine:\n",
    "    def __init__(self, W, b):\n",
    "        self.params = [W,b]\n",
    "    def forward(self, x):\n",
    "        W, b = self.params\n",
    "        out = np.dot(W, x) + b\n",
    "        return out"
   ]
  },
  {
   "cell_type": "code",
   "execution_count": null,
   "metadata": {},
   "outputs": [],
   "source": []
  }
 ],
 "metadata": {
  "kernelspec": {
   "display_name": "Python 3",
   "language": "python",
   "name": "python3"
  },
  "language_info": {
   "codemirror_mode": {
    "name": "ipython",
    "version": 3
   },
   "file_extension": ".py",
   "mimetype": "text/x-python",
   "name": "python",
   "nbconvert_exporter": "python",
   "pygments_lexer": "ipython3",
   "version": "3.6.5"
  }
 },
 "nbformat": 4,
 "nbformat_minor": 2
}
